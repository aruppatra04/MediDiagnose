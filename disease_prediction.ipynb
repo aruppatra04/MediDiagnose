{
 "cells": [
  {
   "cell_type": "markdown",
   "metadata": {},
   "source": [
    "## Medical Recommendation System with Machine Learning"
   ]
  },
  {
   "cell_type": "markdown",
   "metadata": {},
   "source": [
    "# Description:\n",
    "Welcome to our cutting-edge Personalized Medical Recommendation System, a powerful platform designed to assist users in understanding and managing their health. Leveraging the capabilities of machine learning, our system analyzes user-input symptoms to predict potential diseases accurately."
   ]
  },
  {
   "cell_type": "code",
   "execution_count": 1,
   "metadata": {},
   "outputs": [],
   "source": [
    "# inport libraries and models :: \n",
    "import os\n",
    "import pickle\n",
    "import pandas as pd\n",
    "import numpy as np\n",
    "import matplotlib.pyplot as plt\n",
    "from sklearn.preprocessing import LabelEncoder\n",
    "from sklearn.model_selection import train_test_split\n",
    "from sklearn.preprocessing import StandardScaler\n",
    "from sklearn.linear_model import LinearRegression, Ridge, Lasso\n",
    "from sklearn.tree import DecisionTreeRegressor\n",
    "from sklearn.ensemble import RandomForestRegressor, GradientBoostingRegressor, AdaBoostRegressor\n",
    "from sklearn.svm import SVR\n",
    "from sklearn.neighbors import KNeighborsRegressor\n",
    "from xgboost import XGBRegressor\n",
    "from sklearn.metrics import r2_score, mean_absolute_error, mean_squared_error"
   ]
  },
  {
   "cell_type": "code",
   "execution_count": 2,
   "metadata": {},
   "outputs": [],
   "source": [
    "# load all datasets\n",
    "data = pd.read_csv(\"datasets/training.csv\")\n",
    "symtoms = pd.read_csv(\"datasets/symtoms.csv\")\n",
    "precautions = pd.read_csv(\"datasets/precautions.csv\")\n",
    "workout = pd.read_csv(\"datasets/workout.csv\")\n",
    "description = pd.read_csv(\"datasets/description.csv\")\n",
    "medications = pd.read_csv(\"datasets/medications.csv\")\n",
    "diets = pd.read_csv(\"datasets/diets.csv\")"
   ]
  },
  {
   "cell_type": "code",
   "execution_count": 3,
   "metadata": {},
   "outputs": [
    {
     "name": "stdout",
     "output_type": "stream",
     "text": [
      "   itching  skin_rash  nodal_skin_eruptions  continuous_sneezing  shivering  \\\n",
      "0        1          1                     1                    0          0   \n",
      "1        0          1                     1                    0          0   \n",
      "2        1          0                     1                    0          0   \n",
      "3        1          1                     0                    0          0   \n",
      "4        1          1                     1                    0          0   \n",
      "\n",
      "   chills  joint_pain  stomach_pain  acidity  ulcers_on_tongue  ...  \\\n",
      "0       0           0             0        0                 0  ...   \n",
      "1       0           0             0        0                 0  ...   \n",
      "2       0           0             0        0                 0  ...   \n",
      "3       0           0             0        0                 0  ...   \n",
      "4       0           0             0        0                 0  ...   \n",
      "\n",
      "   blackheads  scurring  skin_peeling  silver_like_dusting  \\\n",
      "0           0         0             0                    0   \n",
      "1           0         0             0                    0   \n",
      "2           0         0             0                    0   \n",
      "3           0         0             0                    0   \n",
      "4           0         0             0                    0   \n",
      "\n",
      "   small_dents_in_nails  inflammatory_nails  blister  red_sore_around_nose  \\\n",
      "0                     0                   0        0                     0   \n",
      "1                     0                   0        0                     0   \n",
      "2                     0                   0        0                     0   \n",
      "3                     0                   0        0                     0   \n",
      "4                     0                   0        0                     0   \n",
      "\n",
      "   yellow_crust_ooze         prognosis  \n",
      "0                  0  Fungal infection  \n",
      "1                  0  Fungal infection  \n",
      "2                  0  Fungal infection  \n",
      "3                  0  Fungal infection  \n",
      "4                  0  Fungal infection  \n",
      "\n",
      "[5 rows x 133 columns]\n"
     ]
    }
   ],
   "source": [
    "print(data.head())"
   ]
  },
  {
   "cell_type": "code",
   "execution_count": 4,
   "metadata": {},
   "outputs": [
    {
     "name": "stdout",
     "output_type": "stream",
     "text": [
      "itching                 0\n",
      "skin_rash               0\n",
      "nodal_skin_eruptions    0\n",
      "continuous_sneezing     0\n",
      "shivering               0\n",
      "                       ..\n",
      "inflammatory_nails      0\n",
      "blister                 0\n",
      "red_sore_around_nose    0\n",
      "yellow_crust_ooze       0\n",
      "prognosis               0\n",
      "Length: 133, dtype: int64\n"
     ]
    }
   ],
   "source": [
    "print(data.isnull().sum())"
   ]
  },
  {
   "cell_type": "code",
   "execution_count": 5,
   "metadata": {},
   "outputs": [],
   "source": [
    "# Combine numerical, encoded categorical, and polynomial features\n",
    "X = data.iloc[:, :-1]  # All symptom columns\n",
    "y = data[\"prognosis\"]  # Target column (disease names)"
   ]
  },
  {
   "cell_type": "code",
   "execution_count": 6,
   "metadata": {},
   "outputs": [],
   "source": [
    "# Convert target variable y to numeric values\n",
    "label_encoder = LabelEncoder()\n",
    "y = label_encoder.fit_transform(y)  # Convert categorical labels to numbers"
   ]
  },
  {
   "cell_type": "code",
   "execution_count": 7,
   "metadata": {},
   "outputs": [],
   "source": [
    "# Split the dataset\n",
    "X_train, X_test, y_train, y_test = train_test_split(X, y, test_size=0.3, random_state=42)"
   ]
  },
  {
   "cell_type": "code",
   "execution_count": 8,
   "metadata": {},
   "outputs": [
    {
     "name": "stdout",
     "output_type": "stream",
     "text": [
      "itching                 1.000000\n",
      "skin_rash               1.000000\n",
      "nodal_skin_eruptions    1.000000\n",
      "continuous_sneezing     1.000000\n",
      "shivering               1.000000\n",
      "                          ...   \n",
      "small_dents_in_nails    3.821329\n",
      "inflammatory_nails      3.821329\n",
      "blister                 2.878794\n",
      "red_sore_around_nose    2.878794\n",
      "yellow_crust_ooze       2.885561\n",
      "Length: 132, dtype: float64\n"
     ]
    }
   ],
   "source": [
    "# Remove Highly Correlated Features\n",
    "df = pd.DataFrame(X_train)  # Convert to DataFrame\n",
    "correlation_matrix = df.corr().abs()\n",
    "\n",
    "# Remove features with high correlation (>0.9)\n",
    "high_correlation_features = correlation_matrix[correlation_matrix > 0.9].sum()\n",
    "print(high_correlation_features)"
   ]
  },
  {
   "cell_type": "code",
   "execution_count": 9,
   "metadata": {},
   "outputs": [
    {
     "name": "stdout",
     "output_type": "stream",
     "text": [
      "      itching  skin_rash  nodal_skin_eruptions  continuous_sneezing  \\\n",
      "682         0          0                     0                    0   \n",
      "3963        0          0                     0                    0   \n",
      "3126        0          0                     0                    0   \n",
      "4480        0          0                     0                    0   \n",
      "3411        0          0                     0                    0   \n",
      "\n",
      "      shivering  chills  joint_pain  stomach_pain  acidity  ulcers_on_tongue  \\\n",
      "682           0       1           0             0        0                 0   \n",
      "3963          0       1           0             0        0                 0   \n",
      "3126          0       0           0             0        0                 0   \n",
      "4480          0       0           0             0        1                 0   \n",
      "3411          0       0           0             0        0                 0   \n",
      "\n",
      "      ...  pus_filled_pimples  blackheads  scurring  skin_peeling  \\\n",
      "682   ...                   0           0         0             0   \n",
      "3963  ...                   0           0         0             0   \n",
      "3126  ...                   0           0         0             0   \n",
      "4480  ...                   0           0         0             0   \n",
      "3411  ...                   0           0         0             0   \n",
      "\n",
      "      silver_like_dusting  small_dents_in_nails  inflammatory_nails  blister  \\\n",
      "682                     0                     0                   0        0   \n",
      "3963                    0                     0                   0        0   \n",
      "3126                    0                     0                   0        0   \n",
      "4480                    0                     0                   0        0   \n",
      "3411                    0                     0                   0        0   \n",
      "\n",
      "      red_sore_around_nose  yellow_crust_ooze  \n",
      "682                      0                  0  \n",
      "3963                     0                  0  \n",
      "3126                     0                  0  \n",
      "4480                     0                  0  \n",
      "3411                     0                  0  \n",
      "\n",
      "[5 rows x 132 columns]\n"
     ]
    }
   ],
   "source": [
    "print(X_train.head())"
   ]
  },
  {
   "cell_type": "code",
   "execution_count": 10,
   "metadata": {},
   "outputs": [
    {
     "name": "stdout",
     "output_type": "stream",
     "text": [
      "      itching  skin_rash  nodal_skin_eruptions  continuous_sneezing  \\\n",
      "373         0          1                     0                    0   \n",
      "4916        0          1                     0                    0   \n",
      "1550        0          0                     0                    0   \n",
      "3081        0          0                     0                    0   \n",
      "3857        1          0                     0                    0   \n",
      "\n",
      "      shivering  chills  joint_pain  stomach_pain  acidity  ulcers_on_tongue  \\\n",
      "373           0       0           0             0        0                 0   \n",
      "4916          0       0           0             0        0                 0   \n",
      "1550          0       0           0             0        0                 0   \n",
      "3081          0       0           0             0        0                 0   \n",
      "3857          0       0           0             0        0                 0   \n",
      "\n",
      "      ...  pus_filled_pimples  blackheads  scurring  skin_peeling  \\\n",
      "373   ...                   0           1         1             0   \n",
      "4916  ...                   1           1         1             0   \n",
      "1550  ...                   0           0         0             0   \n",
      "3081  ...                   0           0         0             0   \n",
      "3857  ...                   0           0         0             0   \n",
      "\n",
      "      silver_like_dusting  small_dents_in_nails  inflammatory_nails  blister  \\\n",
      "373                     0                     0                   0        0   \n",
      "4916                    0                     0                   0        0   \n",
      "1550                    0                     0                   0        0   \n",
      "3081                    0                     0                   0        0   \n",
      "3857                    0                     0                   0        0   \n",
      "\n",
      "      red_sore_around_nose  yellow_crust_ooze  \n",
      "373                      0                  0  \n",
      "4916                     0                  0  \n",
      "1550                     0                  0  \n",
      "3081                     0                  0  \n",
      "3857                     0                  0  \n",
      "\n",
      "[5 rows x 132 columns]\n"
     ]
    }
   ],
   "source": [
    "print(X_test.head())"
   ]
  },
  {
   "cell_type": "code",
   "execution_count": 11,
   "metadata": {},
   "outputs": [
    {
     "name": "stdout",
     "output_type": "stream",
     "text": [
      "0    34\n",
      "1    34\n",
      "2    23\n",
      "3    30\n",
      "4    17\n",
      "dtype: int64\n"
     ]
    }
   ],
   "source": [
    "y_train_series = pd.Series(y_train)\n",
    "print(y_train_series.head())  # Now works correctly\n"
   ]
  },
  {
   "cell_type": "code",
   "execution_count": 12,
   "metadata": {},
   "outputs": [],
   "source": [
    "#  Standardize the features\n",
    "scaler = StandardScaler()\n",
    "X_train_scaled = scaler.fit_transform(X_train)\n",
    "X_test_scaled = scaler.transform(X_test)"
   ]
  },
  {
   "cell_type": "code",
   "execution_count": 13,
   "metadata": {},
   "outputs": [],
   "source": [
    "# colleaction of all models  \n",
    "models = {\n",
    "    \"Linear Regression\": LinearRegression(),\n",
    "    \"Ridge Regression\": Ridge(alpha=10),\n",
    "    \"Lasso Regression\": Lasso(alpha=0.1),\n",
    "    \"Decision Tree\": DecisionTreeRegressor(max_depth=5, min_samples_split=10, min_samples_leaf=5),\n",
    "    \"Random Forest\": RandomForestRegressor(n_estimators=100, max_depth=10, random_state=42),\n",
    "    \"Gradient Boosting\": GradientBoostingRegressor(n_estimators=100, random_state=42),\n",
    "    \"AdaBoost Regressor\": AdaBoostRegressor(n_estimators=50, random_state=42),\n",
    "    \"Support Vector Regression (SVR)\": SVR(kernel=\"rbf\"),\n",
    "    \"K-Nearest Neighbors\": KNeighborsRegressor(n_neighbors=20),\n",
    "    \"XGBoost\": XGBRegressor(n_estimators=100, max_depth=5, learning_rate=0.1, random_state=42)\n",
    "}"
   ]
  },
  {
   "cell_type": "code",
   "execution_count": 14,
   "metadata": {},
   "outputs": [
    {
     "name": "stdout",
     "output_type": "stream",
     "text": [
      "                             Model  R² Score       MAE        MSE\n",
      "0                Linear Regression  0.972239  1.135381   3.844955\n",
      "1                 Ridge Regression  0.972252  1.139888   3.843191\n",
      "2                 Lasso Regression  0.965433  1.243587   4.787689\n",
      "3                    Decision Tree  0.477857  6.180219  72.318356\n",
      "4                    Random Forest  0.831827  2.927731  23.292470\n",
      "5                Gradient Boosting  0.915484  2.935051  11.705731\n",
      "6               AdaBoost Regressor  0.328043  8.196915  93.068187\n",
      "7  Support Vector Regression (SVR)  0.981686  0.665783   2.536554\n",
      "8              K-Nearest Neighbors  0.997657  0.031233   0.324465\n",
      "9                          XGBoost  0.976049  1.113402   3.317350\n"
     ]
    }
   ],
   "source": [
    "# Dictionary to store results\n",
    "results = [] # store the R² Score, MAE, MSE values\n",
    "\n",
    "r2_scores = [] # store the R² Score\n",
    "\n",
    "# Train and evaluate models\n",
    "for name, model in models.items():\n",
    "    model.fit(X_train_scaled, y_train)  # Train model\n",
    "    y_pred = model.predict(X_test_scaled)  # Predict on test data\n",
    "    \n",
    "    # Calculate metrics\n",
    "    r2 = r2_score(y_test, y_pred)\n",
    "    mae = mean_absolute_error(y_test, y_pred)\n",
    "    mse = mean_squared_error(y_test, y_pred)\n",
    "    \n",
    "    # Store results\n",
    "    results.append([name, r2, mae, mse])\n",
    "    r2_scores.append(r2)\n",
    "\n",
    "# Convert results to DataFrame and print\n",
    "results_df = pd.DataFrame(results, columns=[\"Model\", \"R² Score\", \"MAE\", \"MSE\"])\n",
    "\n",
    "print(results_df)"
   ]
  },
  {
   "cell_type": "code",
   "execution_count": 15,
   "metadata": {},
   "outputs": [
    {
     "data": {
      "image/png": "[encoded data removed]",
      "text/plain": [
       "<Figure size 1000x600 with 1 Axes>"
      ]
     },
     "metadata": {},
     "output_type": "display_data"
    }
   ],
   "source": [
    "# Data for models and their R² scores\n",
    "models = [\n",
    "    'Linear Regression', 'Ridge Regression', 'Lasso Regression', \n",
    "    'Decision Tree', 'Random Forest', 'Gradient Boosting', \n",
    "    'AdaBoost Regressor', 'Support Vector Regression', 'K-Nearest Neighbors', 'XGBoost'\n",
    "]\n",
    "\n",
    "# Creating a bar chart\n",
    "plt.figure(figsize=(10, 6))\n",
    "colors = [\"lightblue\", \"lightgreen\", \"lightpink\", \"lightsalmon\", \n",
    "          \"plum\", \"moccasin\", \"lightgray\", \"lavender\", \"skyblue\", \"lightgreen\"]\n",
    "\n",
    "plt.bar(models, r2_scores, color=colors)\n",
    "\n",
    "plt.title('R² Score Comparison of Models')\n",
    "plt.xlabel('Models')\n",
    "plt.ylabel('R² Score')\n",
    "\n",
    "# Displaying the R² scores on top of the bars\n",
    "for i, score in enumerate(r2_scores):\n",
    "    plt.text(i, score + 0.02, f'{score:.4f}', ha='center', va='bottom')\n",
    "\n",
    "plt.xticks(rotation=45, ha='right')\n",
    "plt.ylim(0, 1.1) \n",
    "\n",
    "plt.show()"
   ]
  },
  {
   "cell_type": "code",
   "execution_count": null,
   "metadata": {},
   "outputs": [
    {
     "name": "stdout",
     "output_type": "stream",
     "text": [
      "R2 Score: 0.9993914365768433\n",
      "Predicted level: [2.3473754]\n",
      "Actual level: 2\n",
      "Predicted level: [38.08644]\n",
      "Actual level: 3\n"
     ]
    }
   ],
   "source": [
    "## Single prediction\n",
    "# xgb prediction :\n",
    "xgb = XGBRegressor(objective='reg:squarederror', booster='gbtree')\n",
    "xgb.fit(X_train, y_train)\n",
    "ypred = xgb.predict(X_test)\n",
    "print(\"R2 Score:\", r2_score(y_test, ypred))\n",
    "\n",
    "# Ensure the directory exists\n",
    "model_dir = \"model\"\n",
    "os.makedirs(model_dir, exist_ok=True)\n",
    "\n",
    "# saving model\n",
    "model_path = os.path.join(model_dir, \"xgb_regressor.pkl\")\n",
    "pickle.dump(xgb, open(model_path, 'wb'))\n",
    "\n",
    "# load model\n",
    "xgb = pickle.load(open(model_path, 'rb'))\n",
    "\n",
    "# test 1 :\n",
    "print(\"Predicted level:\", xgb.predict(X_test.iloc[0].values.reshape(1, -1)))\n",
    "print(\"Actual level:\", y_test[0])\n",
    "\n",
    "# test 2 :\n",
    "print(\"Predicted level:\", xgb.predict(X_test.iloc[10].values.reshape(1, -1)))\n",
    "print(\"Actual level:\", y_test[14])"
   ]
  },
  {
   "cell_type": "code",
   "execution_count": 17,
   "metadata": {},
   "outputs": [],
   "source": [
    "# custome and helping functions :: \n",
    "\n",
    "def helper(dis):\n",
    "    desc = description[description['Disease'] == predicted_disease]['Description']\n",
    "    desc = \" \".join([w for w in desc])\n",
    "\n",
    "    pre = precautions[precautions['Disease'] == dis][['Precaution_1', 'Precaution_2', 'Precaution_3', 'Precaution_4']]\n",
    "    pre = [col for col in pre.values]\n",
    "\n",
    "    med = medications[medications['Disease'] == dis]['Medication']\n",
    "    med = [med for med in med.values]\n",
    "\n",
    "    die = diets[diets['Disease'] == dis]['Diet']\n",
    "    die = [die for die in die.values]\n",
    "\n",
    "    wrkout = workout[workout['disease'] == dis] ['workout']\n",
    "\n",
    "    return desc, pre, med, die, wrkout"
   ]
  },
  {
   "cell_type": "code",
   "execution_count": 18,
   "metadata": {},
   "outputs": [],
   "source": [
    "\n",
    "symptoms_dict = {'itching': 0, 'skin_rash': 1, 'nodal_skin_eruptions': 2, 'continuous_sneezing': 3, 'shivering': 4, 'chills': 5, 'joint_pain': 6, 'stomach_pain': 7, 'acidity': 8, 'ulcers_on_tongue': 9, 'muscle_wasting': 10, 'vomiting': 11, 'burning_micturition': 12, 'spotting_ urination': 13, 'fatigue': 14, 'weight_gain': 15, 'anxiety': 16, 'cold_hands_and_feets': 17, 'mood_swings': 18, 'weight_loss': 19, 'restlessness': 20, 'lethargy': 21, 'patches_in_throat': 22, 'irregular_sugar_level': 23, 'cough': 24, 'high_fever': 25, 'sunken_eyes': 26, 'breathlessness': 27, 'sweating': 28, 'dehydration': 29, 'indigestion': 30, 'headache': 31, 'yellowish_skin': 32, 'dark_urine': 33, 'nausea': 34, 'loss_of_appetite': 35, 'pain_behind_the_eyes': 36, 'back_pain': 37, 'constipation': 38, 'abdominal_pain': 39, 'diarrhoea': 40, 'mild_fever': 41, 'yellow_urine': 42, 'yellowing_of_eyes': 43, 'acute_liver_failure': 44, 'fluid_overload': 45, 'swelling_of_stomach': 46, 'swelled_lymph_nodes': 47, 'malaise': 48, 'blurred_and_distorted_vision': 49, 'phlegm': 50, 'throat_irritation': 51, 'redness_of_eyes': 52, 'sinus_pressure': 53, 'runny_nose': 54, 'congestion': 55, 'chest_pain': 56, 'weakness_in_limbs': 57, 'fast_heart_rate': 58, 'pain_during_bowel_movements': 59, 'pain_in_anal_region': 60, 'bloody_stool': 61, 'irritation_in_anus': 62, 'neck_pain': 63, 'dizziness': 64, 'cramps': 65, 'bruising': 66, 'obesity': 67, 'swollen_legs': 68, 'swollen_blood_vessels': 69, 'puffy_face_and_eyes': 70, 'enlarged_thyroid': 71, 'brittle_nails': 72, 'swollen_extremeties': 73, 'excessive_hunger': 74, 'extra_marital_contacts': 75, 'drying_and_tingling_lips': 76, 'slurred_speech': 77, 'knee_pain': 78, 'hip_joint_pain': 79, 'muscle_weakness': 80, 'stiff_neck': 81, 'swelling_joints': 82, 'movement_stiffness': 83, 'spinning_movements': 84, 'loss_of_balance': 85, 'unsteadiness': 86, 'weakness_of_one_body_side': 87, 'loss_of_smell': 88, 'bladder_discomfort': 89, 'foul_smell_of urine': 90, 'continuous_feel_of_urine': 91, 'passage_of_gases': 92, 'internal_itching': 93, 'toxic_look_(typhos)': 94, 'depression': 95, 'irritability': 96, 'muscle_pain': 97, 'altered_sensorium': 98, 'red_spots_over_body': 99, 'belly_pain': 100, 'abnormal_menstruation': 101, 'dischromic _patches': 102, 'watering_from_eyes': 103, 'increased_appetite': 104, 'polyuria': 105, 'family_history': 106, 'mucoid_sputum': 107, 'rusty_sputum': 108, 'lack_of_concentration': 109, 'visual_disturbances': 110, 'receiving_blood_transfusion': 111, 'receiving_unsterile_injections': 112, 'coma': 113, 'stomach_bleeding': 114, 'distention_of_abdomen': 115, 'history_of_alcohol_consumption': 116, 'fluid_overload.1': 117, 'blood_in_sputum': 118, 'prominent_veins_on_calf': 119, 'palpitations': 120, 'painful_walking': 121, 'pus_filled_pimples': 122, 'blackheads': 123, 'scurring': 124, 'skin_peeling': 125, 'silver_like_dusting': 126, 'small_dents_in_nails': 127, 'inflammatory_nails': 128, 'blister': 129, 'red_sore_around_nose': 130, 'yellow_crust_ooze': 131}\n",
    "diseases_list = {15: 'Fungal infection', 4: 'Allergy', 16: 'GERD', 9: 'Chronic cholestasis', 14: 'Drug Reaction', 33: 'Peptic ulcer diseae', 1: 'AIDS', 12: 'Diabetes ', 17: 'Gastroenteritis', 6: 'Bronchial Asthma', 23: 'Hypertension ', 30: 'Migraine', 7: 'Cervical spondylosis', 32: 'Paralysis (brain hemorrhage)', 28: 'Jaundice', 29: 'Malaria', 8: 'Chicken pox', 11: 'Dengue', 37: 'Typhoid', 40: 'hepatitis A', 19: 'Hepatitis B', 20: 'Hepatitis C', 21: 'Hepatitis D', 22: 'Hepatitis E', 3: 'Alcoholic hepatitis', 36: 'Tuberculosis', 10: 'Common Cold', 34: 'Pneumonia', 13: 'Dimorphic hemmorhoids(piles)', 18: 'Heart attack', 39: 'Varicose veins', 26: 'Hypothyroidism', 24: 'Hyperthyroidism', 25: 'Hypoglycemia', 31: 'Osteoarthristis', 5: 'Arthritis', 0: '(vertigo) Paroymsal  Positional Vertigo', 2: 'Acne', 38: 'Urinary tract infection', 35: 'Psoriasis', 27: 'Impetigo'}\n",
    "\n",
    "# model prediction function\n",
    "def get_predicted_value(patient_symptoms):\n",
    "    input_vector = np.zeros(len(symptoms_dict))\n",
    "\n",
    "    for item in patient_symptoms:\n",
    "        input_vector[symptoms_dict[item]] = 1\n",
    "    # return diseases_list[xgb.predict([input_vector])[0]]\n",
    "    predicted_index = int(round(xgb.predict([input_vector])[0]))  # Convert to integer index\n",
    "    if predicted_index in range(len(diseases_list)):  # Ensure index is valid\n",
    "        return diseases_list[predicted_index]\n",
    "    else:\n",
    "        return \"Unknown Disease\""
   ]
  },
  {
   "cell_type": "code",
   "execution_count": 19,
   "metadata": {},
   "outputs": [
    {
     "name": "stdout",
     "output_type": "stream",
     "text": [
      "Predicted disease :: Drug Reaction\n",
      "\n",
      "Description ::\n",
      "Drug Reaction occurs when the body reacts adversely to a medication.\n",
      "\n",
      "Precautions ::\n",
      "1 :  stop irritation\n",
      "2 :  consult nearest hospital\n",
      "3 :  stop taking drug\n",
      "4 :  follow up\n",
      "\n",
      "Medications ::\n",
      "5 :  ['Antihistamines', 'Epinephrine', 'Corticosteroids', 'Antibiotics', 'Antifungal Cream']\n",
      "\n",
      "Workout ::\n",
      "6 :  Discontinue offending medication\n",
      "7 :  Stay hydrated\n",
      "8 :  Include anti-inflammatory foods\n",
      "9 :  Consume antioxidants\n",
      "10 :  Avoid trigger foods\n",
      "11 :  Include omega-3 fatty acids\n",
      "12 :  Limit caffeine and alcohol\n",
      "13 :  Stay hydrated\n",
      "14 :  Eat a balanced diet\n",
      "15 :  Consult a healthcare professional\n",
      "\n",
      "Diets ::\n",
      "16 :  ['Antihistamine Diet', 'Omega-3-rich foods', 'Vitamin C-rich foods', 'Quercetin-rich foods', 'Probiotics']\n",
      "\n"
     ]
    }
   ],
   "source": [
    "# test 1 :\n",
    "ip_symptoms = input(\"Enter your symptoms:....\")\n",
    "\n",
    "user_symptoms = [s.strip() for s in ip_symptoms.split(',')] \n",
    "user_symptoms = [sym.strip(\"[]' \") for sym in user_symptoms] \n",
    "predicted_disease = get_predicted_value(user_symptoms)\n",
    "\n",
    "desc, pre, med, die, wrkout = helper(predicted_disease)\n",
    "\n",
    "print(\"Predicted disease :: \"+ predicted_disease)\n",
    "\n",
    "print(\"\")\n",
    "\n",
    "print(\"Description ::\")\n",
    "print(desc)\n",
    "print(\"\")\n",
    "\n",
    "print(\"Precautions ::\")\n",
    "i = 1\n",
    "for p_i in pre[0]:\n",
    "    print(i, \": \", p_i)\n",
    "    i += 1\n",
    "print(\"\")\n",
    "\n",
    "print(\"Medications ::\")\n",
    "for m_i in med:\n",
    "    print(i, \": \", m_i)\n",
    "    i += 1\n",
    "print(\"\")\n",
    "\n",
    "print(\"Workout ::\")\n",
    "for w_i in wrkout:\n",
    "    print(i, \": \", w_i)\n",
    "    i += 1\n",
    "print(\"\")\n",
    "\n",
    "print(\"Diets ::\")\n",
    "for d_i in die:\n",
    "    print(i, \": \", d_i)\n",
    "    i += 1\n",
    "print(\"\")"
   ]
  }
 ],
 "metadata": {
  "kernelspec": {
   "display_name": "Python 3",
   "language": "python",
   "name": "python3"
  },
  "language_info": {
   "codemirror_mode": {
    "name": "ipython",
    "version": 3
   },
   "file_extension": ".py",
   "mimetype": "text/x-python",
   "name": "python",
   "nbconvert_exporter": "python",
   "pygments_lexer": "ipython3",
   "version": "3.12.5"
  }
 },
 "nbformat": 4,
 "nbformat_minor": 2
}
